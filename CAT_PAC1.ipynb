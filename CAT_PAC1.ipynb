{
 "cells": [
  {
   "cell_type": "markdown",
   "id": "8abb029a",
   "metadata": {
    "id": "8abb029a"
   },
   "source": [
    "<div style=\"width: 100%; clear: both;\">\n",
    "    <div style=\"float: left; width: 50%;\">\n",
    "       <img src=\"https://www.uoc.edu/portal/system/modules/edu.uoc.presentations/resources/img/branding/logo-uoc-default.png\", align=\"left\">\n",
    "    </div>\n",
    "</div>\n",
    "\n",
    "<div style=\"float: right; width: 50%;\">\n",
    "    <p style=\"margin: 0; text-align:right;\">22.503 · Programació per a la ciència de dades </p>\n",
    "    <p style=\"margin: 0; text-align:right;\">Grau en Ciència de Dades Aplicada</p>\n",
    "    <p style=\"margin: 0; text-align:right; padding-button: 100px;\">Estudis d'Informàtica, Multimèdia i Telecomunicacions</p>\n",
    "</div>\n",
    "\n",
    "</div>\n",
    "<div style=\"width: 100%; clear: both;\">\n",
    "<div style=\"width:100%;\"> </div>"
   ]
  },
  {
   "cell_type": "markdown",
   "id": "1da0e2c7",
   "metadata": {
    "id": "1da0e2c7"
   },
   "source": [
    "Programació per a la ciència de dades - PAC1\n",
    "============================\n",
    "\n",
    "En aquest Notebook trobareu un conjunt d'exercicis que conformen la primera activitat d'avaluació contínua (PAC) de l'assignatura.\n",
    "\n",
    "Per a cada exercici, tingueu en compte que:\n",
    "\n",
    "* **És necessari incloure comentaris** del vostre codi, que expliquin com ha implementat la solució del problema plantejat.\n",
    "* **És imprescindible** citar les referències consultades per a realitzar l'activitat. Es valorarà que el codi proporcionat solucioni el problema proposat i també la qualitat del codi (comentaris, llegibilitat, claredat, ús de les estructures de dades adequades, bona nomenclatura de les variables i funcions, seguiment del PEP8, etc. ).\n",
    "\n",
    "Veureu que cadascuna de les activitats té associada una puntuació, que indica el pes que té l'activitat sobre la nota de la PAC.\n",
    "\n",
    "A més, totes les activitats tenen una etiqueta, que indica els recursos necessaris per a dur-la a terme. Hi ha tres possibles etiquetes:\n",
    "* <span style=\"font-family: Courier New; background-color: #82b74b; color: #000000; padding: 3px; \">SM</span> *Només materials*: les eines necessàries per a realitzar l'activitat es poden trobar en els materials de l'assignatura (considerarem també els materials de l'assignatura Fonaments de Programació, així com les lectures obligatòries de material extern que s'indiquen en els notebooks).\n",
    "* <span style=\"font-family: Courier New; background-color: #ffcc5c; color: #000000; padding: 3px; \">EG</span>*Consulta externa guiada*: l'activitat pot requerir fer ús d'eines que no es troben en els materials de l'assignatura, però l'enunciat conté indicacions d'on o com trobar la informació addicional necessària per a resoldre l'activitat.\n",
    "* <span style=\"font-family: Courier New; background-color: #f2ae72; color: #000000; padding: 3px; \">EI</span>*Consulta externa independent*: l'activitat pot requerir fer ús d'eines que no es troben en els materials de l'assignatura, i l'enunciat pot no incloure la descripció d'on o com trobar aquesta informació addicional. Serà necessari que l'estudiant busqui aquesta informació utilitzant els recursos que s'han explicat en l'assignatura.\n",
    "\n",
    "És important notar que aquestes etiquetes no indiquen el nivell de dificultat de l'exercici, sinó únicament la necessitat de consulta de documentació externa per a la seva resolució. A més, recordi que les *etiquetes són informatives*, però pot consultar referències externes sempre que ho desitgi (encara que no s'indiqui explícitament) o pot ser que pugui realitzar una activitat sense consultar cap mena de documentació. Per exemple, per a resoldre una activitat que només requereixi els materials de l'assignatura, pot consultar referències externes si es desitja, ja sigui tant per a ajudar en la resolució com per a ampliar coneixements.\n",
    "\n",
    "\n",
    "---\n",
    "\n",
    "## Abans de començar\n",
    "\n",
    "Llegiu atentament els paràgrafs que segueixen, relacionats amb l'originalitat en les activitats, abans de començar a treballar en la PAC. Si us sorgeix qualsevol dubte dirigir-vos al professor col·laborador de l'assignatura abans de continuar amb l'activitat.\n",
    "\n",
    "<div class=\"alert alert-block alert-success\"> La falta d'originalitat es produeix quan en una activitat apareix contingut que no ha estat elaborat de manera individual per l'estudiant i no es referencia adequadament el seu origen. O bé quan, encara que el contingut extern estigui referenciat, aquest és tan extens que no és possible considerar a l'estudiant l'autor o autora de l'activitat.\n",
    "<br /><br />\n",
    "Així, alguns exemples de comportaments inadequats degut mancant originalitat són:\n",
    "<ol>\n",
    "<li>Crear la solució d'un exercici de la PAC en col·laboració entre diversos estudiants.</li>\n",
    "<li>Incloure un exercici de la PAC que utilitza codi trobat en internet sense citar la font.</li>\n",
    "<li>Compartir la vostra solució de la PAC amb altres estudiants de l'assignatura.</li>\n",
    "<li>L'ús abusiu d'eines d'intel·ligència artificial que facin la tasca.</li>\n",
    "</ol>\n",
    "</div>\n",
    "\n",
    "## Instruccions de lliurament\n",
    "\n",
    "Per a procedir al lliurament de l'activitat és necessari realitzar els següents passos:\n",
    "\n",
    "1. Comproveu que el notebook s'executa correctament en Google Colaboratory. És important que abans de lliurar la vostra PAC us assegureu que la versió final del codi executa correctament íntegrament. Per a això, es recomana fer una execució completa des de zero del notebook fent clic en <i>\"Entorn d'execució i executar totes\",</i> i comprovant que totes les cel·les del notebook s'executen correctament.\n",
    "2. Confirmeu que sou els autors únics de la PAC i que aquesta inclou totes les cites a recursos externs que s'hagin utilitzat per a elaborar-la. Amb la finalitat de confirmar que sou els autors únics de l'activitat, afegiu el vostre nom complet en la cel·la següent.\n",
    "3. Lliureu el notebook corresponent a la resolució de la PAC a través del Registre d'Avaluació Contínua de l'aula. Podeu descarregar el notebook mitjançant <i> \"Arxiu, descarregar i descarregar .ipynb\" </i>"
   ]
  },
  {
   "cell_type": "markdown",
   "id": "a9afaddc",
   "metadata": {
    "id": "a9afaddc"
   },
   "source": [
    "<div class=\"alert alert-block alert-warning\">Jo, Carles Trullàs i Fernàndez, confirmo que he elaborat de manera individual totes les activitats resoltes en aquesta PAC i que he inclòs les cites a totes les fonts externes que he utilitzat per a resoldre les activitats. </div>"
   ]
  },
  {
   "cell_type": "markdown",
   "id": "42367960",
   "metadata": {
    "id": "42367960"
   },
   "source": [
    "\n",
    "## Type hints\n",
    "\n",
    "Us recomanem resoldre aquesta PAC usant type hints. Podem entendre els type hints de Python com una solució formal per a indicar estèticament el tipus de valor dins del codi Python. Us recomanem la visualització del següent [vídeo](https://www.youtube.com/watch?v=j0dy8Q9VIPk) per a una introducció als type hints en Python, i per a entendre per què són interessants."
   ]
  },
  {
   "cell_type": "markdown",
   "id": "ab2db40d",
   "metadata": {
    "id": "ab2db40d"
   },
   "source": [
    "## Enunciat\n",
    "Els següents exercicis es realitzaran utlitzant el *dataset* employees.csv proporcionat juntament amb la PAC. Cada fila representa informació d'una persona.\n",
    "\n",
    "Els camps del *dataset* són els següents:\n",
    "\n",
    "- EmployeeID: Identificador únic de cada empleat. És un número consecutiu.\n",
    "- FirstName: Nom de pila de l'empleat.\n",
    "- LastName: Cognom de l'empleat.\n",
    "- JobTitle: Lloc de treball de l'empleat.\n",
    "- Department: Departament de l'empresa on treballa l'empleat.\n",
    "- DateOfBirth: Data de naixement de l'empleat.\n",
    "- Salary: Salari anual de l'empleat, en euros.\n",
    "\n",
    "**IMPORTANT:** La càrrega del *dataset* s'ha de fer usant *rutes relatives*, heu de carregar el fitxer tenint en compte que vostre notebook es troba en una carpeta que conté la carpeta data/ i l'arxiu de dades corresponent.\n",
    "\n",
    "\n",
    "Només heu de carregar el fitxer una sola vegada en el primer exercici."
   ]
  },
  {
   "cell_type": "markdown",
   "id": "dbc2d435",
   "metadata": {
    "id": "dbc2d435"
   },
   "source": [
    "## Exercici 1\n",
    "\n",
    "Carregueu el *dataset* `employees.xlsx` de manera que obtingueu un objecte de tipus `DataFrame`.\n",
    "\n",
    "Una vegada carregat el *dataset*, resol les següents qüestions:\n",
    "\n",
    "1. Mostrar el nombre total d'empleats en el DataFrame.\n",
    "2. Calcular el salari màxim, mínim i mitjà de tots els empleats.\n",
    "3. Mostrar quants empleats pertanyen a cada departament (pista: value_counts()).\n",
    "4. Crear una nova columna Age que contingui l'edat de cada empleat (a partir de *DateOfBirth*).\n",
    "5. Mostrar els 5 empleats amb major salari.\n",
    "6. Mostrar quants empleats tenen un cognom que comença per la lletra \"S\".\n",
    "7. Calcular la mitjana de salaris dels empleats del departament \"IT\".\n",
    "8. Crear una nova columna Initials que contingui les inicials de cada empleat (exemple: \"John Smith\" → \"J.S.\").\n",
    "\n",
    "**Pista 1:** Recordeu que podeu utilitzar llibreries com a `pandas` per a carregar el conjunt de dades de manera senzilla i obtenir un `DataFrame`.\n",
    "\n",
    "**Pista 2:** El *type hint* d'un `DataFrame` és `pd.DataFrame`.\n",
    "\n",
    "**Tots els exercicis s'han de resoldre a partir del `DataFrame` obtingut en finalitzar aquest exercici i no carregar-lo cada vegada que s'hagi d'utilitzar.**\n",
    "\n",
    "<span style=\"font-family: Courier New; background-color: #82b74b; color: #000000; padding: 3px;\">SM</span> **(2 punts)**"
   ]
  },
  {
   "cell_type": "code",
   "execution_count": null,
   "id": "XEXFP1n_P5ki",
   "metadata": {
    "colab": {
     "base_uri": "https://localhost:8080/"
    },
    "executionInfo": {
     "elapsed": 905,
     "status": "ok",
     "timestamp": 1759785957491,
     "user": {
      "displayName": "Carles Trullas Fernandez",
      "userId": "13041143854323202681"
     },
     "user_tz": -120
    },
    "id": "XEXFP1n_P5ki",
    "outputId": "e5ce13cd-545a-4ded-e069-23cac339369e"
   },
   "outputs": [
    {
     "name": "stdout",
     "output_type": "stream",
     "text": [
      "Drive already mounted at /content/drive; to attempt to forcibly remount, call drive.mount(\"/content/drive\", force_remount=True).\n",
      "El nombre total d'empleats és: 100\n",
      "Salari màxim: 89267.19\n",
      "Salari mínim: 20053.47\n",
      "Salari mitjà: 51783.931800000006\n",
      "Nombre d'empleats a cada departament:\n",
      "    EmployeeID  FirstName LastName                        JobTitle Department  \\\n",
      "91          92       Gary   Brooks                 Patent attorney    Finance   \n",
      "35          36  Mackenzie    Smith  Commercial art gallery manager  Marketing   \n",
      "84          85       Kurt    Gould                  Hydrogeologist         IT   \n",
      "22          23      Emily    Walls       Teacher, secondary school  Marketing   \n",
      "4            5   Michelle   Cannon                  Hydrogeologist         IT   \n",
      "\n",
      "   DateOfBirth    Salary  \n",
      "91  1970-04-16  89267.19  \n",
      "35  1964-11-13  87905.36  \n",
      "84  1991-08-05  87897.64  \n",
      "22  1999-04-03  87486.62  \n",
      "4   1973-09-26  84966.80  \n"
     ]
    }
   ],
   "source": [
    "# Imports necessaris\n",
    "import pandas as pd\n",
    "from datetime import datetime\n",
    "from collections import OrderedDict\n",
    "import re\n",
    "\n",
    "# Carregar el dataset\n",
    "df_employees: pd.DataFrame = pd.read_excel(\"data/employees.xlsx\")\n",
    "\n",
    "# 1. Nombre total d'empleats\n",
    "print(f\"El nombre total d'empleats és: {len(df_employees)}\")\n",
    "\n",
    "# 2. Salari màxim, mínim i mitjà\n",
    "print(\"Salari màxim:\", df_employees[\"Salary\"].max())\n",
    "print(\"Salari mínim:\", df_employees[\"Salary\"].min())\n",
    "print(\"Salari mitjà:\", df_employees[\"Salary\"].mean())\n",
    "\n",
    "# 3. Nombre d'empleats per departament\n",
    "print(\"Nombre d'empleats a cada departament:\")\n",
    "print(df_employees[\"Department\"].value_counts())\n",
    "\n",
    "# 4. Afegir columna Age\n",
    "df_employees[\"Age\"] = df_employees[\"DateOfBirth\"].apply(lambda dob: datetime.now().year - pd.to_datetime(dob).year)\n",
    "\n",
    "# 5. Els 5 empleats amb major salari\n",
    "print(\"Top 5 empleats amb major salari:\")\n",
    "print(df_employees.nlargest(5, \"Salary\"))\n",
    "\n",
    "# 6. Cognoms que comencen amb 'S'\n",
    "print(\"Nombre d'empleats amb cognom que comença per 'S':\",\n",
    "      df_employees[\"LastName\"].str.startswith(\"S\").sum())\n",
    "\n",
    "# 7. Mitjana de salaris del departament IT\n",
    "print(\"Mitjana de salaris del departament IT:\",\n",
    "      df_employees[df_employees[\"Department\"] == \"IT\"][\"Salary\"].mean())\n",
    "\n",
    "# 8. Afegir columna Initials\n",
    "df_employees[\"Initials\"] = df_employees[\"FirstName\"].str[0] + \".\" + df_employees[\"LastName\"].str[0] + \".\"\n",
    "print(\"DataFrame amb inicials:\")\n",
    "print(df_employees.head())"
   ]
  },
  {
   "cell_type": "markdown",
   "id": "9c65f05b",
   "metadata": {
    "id": "9c65f05b"
   },
   "source": [
    "## Exercici 2\n",
    "\n",
    "Utilitzant el dataframe obtingut en l'Exercici 1:\n",
    "\n",
    "1. Calcular el salari mitjà per departament i mostrar quin departament té la mitjana més alta.\n",
    "\n",
    "2. Comptar quants empleats hi ha a cada departament i mostrar el resultat en ordre descendent.\n",
    "\n",
    "3. Llistar els noms i cognoms de les persones el salari de les quals estigui per sobre del salari mig general.\n",
    "\n",
    "\n",
    "<span style=\"font-family: Courier New; background-color: #82b74b; color: #000000; padding: 3px;\">SM</span> **(2 punts)**"
   ]
  },
  {
   "cell_type": "code",
   "execution_count": null,
   "id": "3FRVZ1LKQFaz",
   "metadata": {
    "id": "3FRVZ1LKQFaz"
   },
   "outputs": [],
   "source": [
    "# 1. Salari mitjà per departament i departament amb mitjana més alta\n",
    "salary_by_department = df_employees.groupby(\"Department\")[\"Salary\"].mean()\n",
    "print(\"Salari mitjà per departament:\")\n",
    "print(salary_by_department)\n",
    "print(\"Departament amb la mitjana més alta:\", salary_by_department.idxmax())\n",
    "\n",
    "# 2. Comptar empleats per departament en ordre descendent\n",
    "employees_by_department = df_employees[\"Department\"].value_counts()\n",
    "print(\"Nombre d'empleats per departament en ordre descendent:\")\n",
    "print(employees_by_department)\n",
    "\n",
    "# 3. Noms i cognoms amb salari per sobre de la mitjana\n",
    "average_salary = df_employees[\"Salary\"].mean()\n",
    "above_average = df_employees[df_employees[\"Salary\"] > average_salary]\n",
    "print(\"Empleats amb salari per sobre de la mitjana:\")\n",
    "print(above_average[[\"FirstName\", \"LastName\"]])"
   ]
  },
  {
   "cell_type": "markdown",
   "id": "lEz1Yx4oK0Pm",
   "metadata": {
    "id": "lEz1Yx4oK0Pm"
   },
   "source": [
    "## Exercici 3\n",
    "\n",
    "Utilitzant el dataframe obtingut en l'Exercici 1:\n",
    "\n",
    "1. Crear la funció **rang_empleats** que rebi com a paràmetres el DataFrame i un rang d'edats (min_edat i max_edat).\n",
    "\n",
    "2. La funció ha de calcular l'edat de cada empleat a partir del seu *DateOfBirth*.\n",
    "\n",
    "3. La funció ha de retornar un diccionari amb:\n",
    "\n",
    "\"comptatge\" → nombre total d'empleats dins del rang d'edat.\n",
    "\n",
    "\"salari_mig\" → salari mitjà d'aquests empleats.\n",
    "\n",
    "Exemple:\n",
    "\n",
    "<pre>\n",
    "resultat = rang_empleats(df, min_edat=30, max_edat=50)\n",
    "print(resultat)\n",
    "\n",
    "{'comptatge': 44, 'salari_mig': 53174.53}\n",
    "</pre>\n",
    "\n",
    "Nota:\n",
    "\n",
    "Es pot calcular l'edat realitzant la diferència entre l'any actual i l'any de *DateOfBirth*\n",
    "\n",
    "<span style=\"font-family: Courier New; background-color: #82b74b; color: #000000; padding: 3px;\">SM</span> **(2 punts)**"
   ]
  },
  {
   "cell_type": "code",
   "execution_count": null,
   "id": "eofFsmlYQHXX",
   "metadata": {
    "id": "eofFsmlYQHXX"
   },
   "outputs": [],
   "source": [
    "# Funció rang_empleats\n",
    "def rang_empleats(df: pd.DataFrame, min_edat: int, max_edat: int) -> dict:\n",
    "    current_year = datetime.now().year\n",
    "    df[\"Age\"] = df[\"DateOfBirth\"].apply(lambda dob: current_year - pd.to_datetime(dob).year)\n",
    "    filtered = df[(df[\"Age\"] >= min_edat) & (df[\"Age\"] <= max_edat)]\n",
    "    return {\n",
    "        \"comptatge\": len(filtered),\n",
    "        \"salari_mig\": filtered[\"Salary\"].mean()\n",
    "    }\n",
    "\n",
    "# Exemple d'ús\n",
    "resultat = rang_empleats(df_employees, min_edat=30, max_edat=50)\n",
    "print(resultat)"
   ]
  },
  {
   "cell_type": "markdown",
   "id": "5b89f592",
   "metadata": {
    "id": "5b89f592"
   },
   "source": [
    "## Exercici 4\n",
    "\n",
    "1. Donada una llista de números de telèfon, heu de recórrer-la i, aplicant expressions regulars, determinar si el número és vàlid o no vàlid.\n",
    "\n",
    "Un número vàlid ha de tenir el format:\n",
    "\n",
    "- Opcional +34 o 0034 a l'inici (codi de país).\n",
    "- Seguit de 9 dígits.\n",
    "- Pot tenir espais, guions o punts com a separadors entre els dígits.\n",
    "- Exemples vàlids: +34 612-345-678, 0034.612.345.678, 612345678.\n",
    "\n",
    "2. Donat un text que conté hores, heu d'extreure, a través d'una única expressió regular, una llista amb totes les hores que tinguin el format correcte:\n",
    "\n",
    "- Format correcte: HH:MM o HH:MM:SS\n",
    "- HH: 0–23\n",
    "- MM i SS: 0–59\n",
    "- Exemple vàlid: 08.30, 23.59:59, 0:5:7 (permetent 1 o 2 dígits).\n",
    "\n",
    "Podeu utilitzar per a validar l'exercici els següents exemples d'ús:\n",
    "\n",
    "<pre>\n",
    "# Llista de números de telèfon\n",
    "numero_movil = [\n",
    "\"+34 612-345-678\",\n",
    "\"0034.612.345.678\",\n",
    "\"612345678\",\n",
    "\"+34 612 345 67\", # invàlid\n",
    "\"12345678\",       # invàlid\n",
    "\"+341234567890\"   # invàlid\n",
    "]\n",
    "\n",
    "# Extracció d'hores\n",
    "\n",
    "text_amb_temps = \"\"\"\n",
    "La reunió comença a les 08:30 i acaba a les 17:45:30.\n",
    "Una altra hora errònia: 25:61, i una altra correcta: 0:5:7.\n",
    "\"\"\"\n",
    "</pre>\n",
    "<span style=\"font-family: Courier New; background-color: #82b74b; color: #000000; padding: 3px;\">SM</span> **(2 punts)**"
   ]
  },
  {
   "cell_type": "code",
   "execution_count": null,
   "id": "MmqK7PvIQJSn",
   "metadata": {
    "id": "MmqK7PvIQJSn"
   },
   "outputs": [],
   "source": [
    "# Validació de números de telèfon\n",
    "numero_movil = [\n",
    "    \"+34 612-345-678\",\n",
    "    \"0034.612.345.678\",\n",
    "    \"612345678\",\n",
    "    \"+34 612 345 67\", # invàlid\n",
    "    \"12345678\",       # invàlid\n",
    "    \"+341234567890\"   # invàlid\n",
    "]\n",
    "\n",
    "valid_phone_pattern = re.compile(r\"^(\\+34|0034)?[ .-]?\\d{3}[ .-]?\\d{3}[ .-]?\\d{3}$\")\n",
    "for numero in numero_movil:\n",
    "    if valid_phone_pattern.match(numero):\n",
    "        print(f\"{numero} és vàlid\")\n",
    "    else:\n",
    "        print(f\"{numero} és invàlid\")\n",
    "\n",
    "# Extracció d'hores\n",
    "text_amb_temps = \"\"\"\n",
    "La reunió comença a les 08:30 i acaba a les 17:45:30.\n",
    "Una altra hora errònia: 25:61, i una altra correcta: 0:5:7.\n",
    "\"\"\"\n",
    "valid_time_pattern = re.compile(r\"\\b([01]?\\d|2[0-3]):[0-5]?\\d(:[0-5]?\\d)?\\b\")\n",
    "valid_times = valid_time_pattern.findall(text_amb_temps)\n",
    "print(\"Hores vàlides trobades:\", [\":\".join(match) for match in valid_times])"
   ]
  },
  {
   "cell_type": "markdown",
   "id": "a6e23dff",
   "metadata": {
    "id": "a6e23dff"
   },
   "source": [
    "## Exercici 5\n",
    "\n",
    "Utilitzant el dataframe obtingut en l'Exercici 1:\n",
    "\n",
    "1. Crea una nova columna anomenada **Categoria_Treball** que contingui la categoria del treball segons la columna *JobTitle*.\n",
    "\n",
    "Per exemple:\n",
    "- Si *JobTitle* conté \"Engineer\" → \"Engineering\"\n",
    "- Si *JobTitle* conté \"Manager\" → \"Management\"\n",
    "- Si *JobTitle* conté \"Teacher\" → \"Education\"\n",
    "- Si no compleix cap de les anteriors → \"Other\"\n",
    "\n",
    "2. Crea un diccionari **category_counts** que contingui el nombre d'empleats per cada *JobCategory* usant dict comprehension.\n",
    "\n",
    "3. Ordena el diccionari per nombre d'empleats descendent i guarda'l com *OrderedDict*.\n",
    "\n",
    "4. Imprimeix el diccionari recorrent-lo amb un bucle for.\n",
    "\n",
    "<span style=\"font-family: Courier New; background-color: #82b74b; color: #000000; padding: 3px;\">SM</span> **(2 punts)**"
   ]
  },
  {
   "cell_type": "code",
   "execution_count": null,
   "id": "6Yb96TcZQK71",
   "metadata": {
    "id": "6Yb96TcZQK71"
   },
   "outputs": [],
   "source": [
    "# 1. Afegir columna Categoria_Treball\n",
    "def categorize_job(title: str) -> str:\n",
    "    if \"Engineer\" in title:\n",
    "        return \"Engineering\"\n",
    "    elif \"Manager\" in title:\n",
    "        return \"Management\"\n",
    "    elif \"Teacher\" in title:\n",
    "        return \"Education\"\n",
    "    else:\n",
    "        return \"Other\"\n",
    "\n",
    "df_employees[\"Categoria_Treball\"] = df_employees[\"JobTitle\"].apply(categorize_job)\n",
    "\n",
    "# 2. Crear diccionari category_counts\n",
    "category_counts = {category: count for category, count in df_employees[\"Categoria_Treball\"].value_counts().items()}\n",
    "\n",
    "# 3. Ordenar el diccionari\n",
    "ordered_category_counts = OrderedDict(sorted(category_counts.items(), key=lambda x: x[1], reverse=True))\n",
    "\n",
    "# 4. Imprimir el diccionari\n",
    "print(\"Nombre d'empleats per categoria de treball:\")\n",
    "for category, count in ordered_category_counts.items():\n",
    "    print(f\"{category}: {count}\")"
   ]
  }
 ],
 "metadata": {
  "colab": {
   "provenance": []
  },
  "kernelspec": {
   "display_name": "uoc",
   "language": "python",
   "name": "python3"
  },
  "language_info": {
   "codemirror_mode": {
    "name": "ipython",
    "version": 3
   },
   "file_extension": ".py",
   "mimetype": "text/x-python",
   "name": "python",
   "nbconvert_exporter": "python",
   "pygments_lexer": "ipython3",
   "version": "3.12.4"
  },
  "toc": {
   "base_numbering": 1,
   "nav_menu": {},
   "number_sections": true,
   "sideBar": true,
   "skip_h1_title": false,
   "title_cell": "Table of Contents",
   "title_sidebar": "Contents",
   "toc_cell": false,
   "toc_position": {},
   "toc_section_display": true,
   "toc_window_display": false
  },
  "varInspector": {
   "cols": {
    "lenName": 16,
    "lenType": 16,
    "lenVar": 40
   },
   "kernels_config": {
    "python": {
     "delete_cmd_postfix": "",
     "delete_cmd_prefix": "del ",
     "library": "var_list.py",
     "varRefreshCmd": "print(var_dic_list())"
    },
    "r": {
     "delete_cmd_postfix": ") ",
     "delete_cmd_prefix": "rm(",
     "library": "var_list.r",
     "varRefreshCmd": "cat(var_dic_list()) "
    }
   },
   "types_to_exclude": [
    "module",
    "function",
    "builtin_function_or_method",
    "instance",
    "_Feature"
   ],
   "window_display": false
  }
 },
 "nbformat": 4,
 "nbformat_minor": 5
}
